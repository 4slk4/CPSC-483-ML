{
 "cells": [
  {
   "cell_type": "code",
   "execution_count": 33,
   "id": "a420c592-79df-4b6e-a2c0-1e9732a21396",
   "metadata": {},
   "outputs": [],
   "source": [
    "from tensorflow.keras.models import load_model\n",
    "import tensorflow as tf\n",
    "from PIL import Image\n",
    "import numpy as np"
   ]
  },
  {
   "cell_type": "code",
   "execution_count": 96,
   "id": "eea63b87-033a-4334-91d5-f8c0d2c3bcd2",
   "metadata": {},
   "outputs": [],
   "source": [
    "new_model = load_model('model2.h5')"
   ]
  },
  {
   "cell_type": "code",
   "execution_count": 97,
   "id": "84b9b449-9f23-4a5d-9d61-fd25286a4dc0",
   "metadata": {},
   "outputs": [],
   "source": [
    "# 0 - Actinic keratoses\t\n",
    "# 1 - Basal cell carcinoma\n",
    "# 2 - Benign keratosis-like lesions\n",
    "# 3 - Dermatofibroma\t\n",
    "# 4 - Melanocytic nevi\n",
    "# 5 - Melanoma\n",
    "# 6 - Vascular lesions\n",
    "lesion_type_dict = {\n",
    "    0 : 'Actinic keratoses',\n",
    "    1 : 'Basal cell carcinoma',\n",
    "    2 : 'Benign keratosis-like lesions',\n",
    "    3 : 'Dermatofibroma',\n",
    "    4 : 'Melanocytic nevi',\n",
    "    5 : 'Melanoma',\n",
    "    6 : 'Vascular lesions',\n",
    "}"
   ]
  },
  {
   "cell_type": "code",
   "execution_count": 112,
   "id": "a2a46cb0-a92e-4763-9155-66d185cc6266",
   "metadata": {},
   "outputs": [
    {
     "data": {
      "text/plain": [
       "(1, 75, 100, 3)"
      ]
     },
     "execution_count": 112,
     "metadata": {},
     "output_type": "execute_result"
    }
   ],
   "source": [
    "# pil = Image.open('blk.jpg')\n",
    "# pil_resized = pil.resize((125, 100))\n",
    "pil = Image.open('./test_img/bcc.jpeg')\n",
    "pil_resized = pil.resize((100, 75))\n",
    "img_np = np.array(pil_resized)\n",
    "img_normalized = img_np / 255.0\n",
    "img_normalized = np.expand_dims(img_normalized, axis=0)\n",
    "img_normalized.shape"
   ]
  },
  {
   "cell_type": "code",
   "execution_count": 114,
   "id": "48bcac03-34a6-4fa9-873c-4d0e6cd944c7",
   "metadata": {},
   "outputs": [
    {
     "name": "stdout",
     "output_type": "stream",
     "text": [
      "1/1 [==============================] - 0s 14ms/step\n"
     ]
    },
    {
     "data": {
      "text/plain": [
       "1"
      ]
     },
     "execution_count": 114,
     "metadata": {},
     "output_type": "execute_result"
    }
   ],
   "source": [
    "yhat = new_model.predict(img_normalized)\n",
    "yhat = np.argmax(yhat, axis = 1)\n",
    "yhat[0]"
   ]
  },
  {
   "cell_type": "code",
   "execution_count": null,
   "id": "91ae7d32-b252-4d59-8a89-eaad727ce570",
   "metadata": {},
   "outputs": [],
   "source": []
  }
 ],
 "metadata": {
  "kernelspec": {
   "display_name": "cnn",
   "language": "python",
   "name": "cnn"
  },
  "language_info": {
   "codemirror_mode": {
    "name": "ipython",
    "version": 3
   },
   "file_extension": ".py",
   "mimetype": "text/x-python",
   "name": "python",
   "nbconvert_exporter": "python",
   "pygments_lexer": "ipython3",
   "version": "3.9.6"
  }
 },
 "nbformat": 4,
 "nbformat_minor": 5
}
